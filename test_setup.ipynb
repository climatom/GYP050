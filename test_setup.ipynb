{
 "cells": [
  {
   "cell_type": "code",
   "execution_count": 1,
   "id": "8c6f0160",
   "metadata": {},
   "outputs": [],
   "source": [
    "import os, cdsapi\n",
    "import zipfile\n",
    "#import xarray as xa\n",
    "import numpy as np, pandas as pd\n",
    "import matplotlib.pyplot as plt"
   ]
  },
  {
   "cell_type": "code",
   "execution_count": null,
   "id": "8f52f999",
   "metadata": {},
   "outputs": [
    {
     "name": "stderr",
     "output_type": "stream",
     "text": [
      "2021-10-18 11:20:52,128 INFO Welcome to the CDS\n",
      "2021-10-18 11:20:52,130 INFO Sending request to https://cds.climate.copernicus.eu/api/v2/resources/reanalysis-era5-pressure-levels\n",
      "2021-10-18 11:20:52,151 INFO Request is queued\n"
     ]
    }
   ],
   "source": [
    "#!/usr/bin/env python\n",
    "c = cdsapi.Client()\n",
    "c.retrieve(\"reanalysis-era5-pressure-levels\",\n",
    "{\n",
    "\"variable\": \"temperature\",\n",
    "\"pressure_level\": \"1000\",\n",
    "\"product_type\": \"reanalysis\",\n",
    "\"year\": \"2020\",\n",
    "\"month\": \"05\",\n",
    "\"day\": \"01\",\n",
    "\"time\": \"12:00\",\n",
    "\"format\": \"netcdf\"\n",
    "}, \"test.nc\")"
   ]
  }
 ],
 "metadata": {
  "kernelspec": {
   "display_name": "Python 3",
   "language": "python",
   "name": "python3"
  },
  "language_info": {
   "codemirror_mode": {
    "name": "ipython",
    "version": 3
   },
   "file_extension": ".py",
   "mimetype": "text/x-python",
   "name": "python",
   "nbconvert_exporter": "python",
   "pygments_lexer": "ipython3",
   "version": "3.8.8"
  }
 },
 "nbformat": 4,
 "nbformat_minor": 5
}
