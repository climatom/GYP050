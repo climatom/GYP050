{
 "cells": [
  {
   "cell_type": "markdown",
   "id": "88285eaa",
   "metadata": {},
   "source": [
    "# Testing \n",
    "\n",
    "## Introduction\n",
    "Here we test a binder installation"
   ]
  },
  {
   "cell_type": "code",
   "execution_count": 9,
   "id": "a2817028",
   "metadata": {},
   "outputs": [],
   "source": [
    "import numpy as np, matplotlib.pyplot as plt\n",
    "import pyPI"
   ]
  },
  {
   "cell_type": "code",
   "execution_count": 5,
   "id": "08aa2786",
   "metadata": {},
   "outputs": [
    {
     "data": {
      "image/png": "[encoded data removed]",
      "text/plain": [
       "<Figure size 432x288 with 1 Axes>"
      ]
     },
     "metadata": {
      "needs_background": "light"
     },
     "output_type": "display_data"
    }
   ],
   "source": [
    "a=np.random.uniform(1,59,10000)\n",
    "plt.hist(a,bins=15,facecolor=\"w\",edgecolor='k')\n"
   ]
  },
  {
   "cell_type": "code",
   "execution_count": 7,
   "id": "c32d71c8",
   "metadata": {},
   "outputs": [
    {
     "data": {
      "text/plain": [
       "(array([  10.,   27.,  102.,  298.,  643., 1150., 1614., 1872., 1717.,\n",
       "        1289.,  748.,  368.,  115.,   40.,    7.]),\n",
       " array([107.75553118, 133.06891594, 158.38230069, 183.69568544,\n",
       "        209.00907019, 234.32245495, 259.6358397 , 284.94922445,\n",
       "        310.2626092 , 335.57599396, 360.88937871, 386.20276346,\n",
       "        411.51614822, 436.82953297, 462.14291772, 487.45630247]),\n",
       " <BarContainer object of 15 artists>)"
      ]
     },
     "execution_count": 7,
     "metadata": {},
     "output_type": "execute_result"
    },
    {
     "data": {
      "image/png": "[encoded data removed]",
      "text/plain": [
       "<Figure size 432x288 with 1 Axes>"
      ]
     },
     "metadata": {
      "needs_background": "light"
     },
     "output_type": "display_data"
    }
   ],
   "source": [
    "randsum=[]\n",
    "for i in range(10000):\n",
    "    randsum.append(np.sum(np.random.uniform(1,59,10)))\n",
    "plt.hist(randsum,bins=15,facecolor=\"w\",edgecolor='k')"
   ]
  }
 ],
 "metadata": {
  "kernelspec": {
   "display_name": "Python 3",
   "language": "python",
   "name": "python3"
  },
  "language_info": {
   "codemirror_mode": {
    "name": "ipython",
    "version": 3
   },
   "file_extension": ".py",
   "mimetype": "text/x-python",
   "name": "python",
   "nbconvert_exporter": "python",
   "pygments_lexer": "ipython3",
   "version": "3.8.8"
  }
 },
 "nbformat": 4,
 "nbformat_minor": 5
}
