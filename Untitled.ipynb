{
 "cells": [
  {
   "cell_type": "markdown",
   "id": "ec94c9ab",
   "metadata": {},
   "source": [
    "# Testing \n",
    "\n",
    "## Introduction\n",
    "Here we test a binder installation"
   ]
  },
  {
   "cell_type": "code",
   "execution_count": 2,
   "id": "a990a02d",
   "metadata": {},
   "outputs": [],
   "source": [
    "import xarray as xa, matplotlib.pyplot as plt, numpy as np, cartopy.crs as ccrs"
   ]
  }
 ],
 "metadata": {
  "kernelspec": {
   "display_name": "Python 3",
   "language": "python",
   "name": "python3"
  },
  "language_info": {
   "codemirror_mode": {
    "name": "ipython",
    "version": 3
   },
   "file_extension": ".py",
   "mimetype": "text/x-python",
   "name": "python",
   "nbconvert_exporter": "python",
   "pygments_lexer": "ipython3",
   "version": "3.8.8"
  }
 },
 "nbformat": 4,
 "nbformat_minor": 5
}
