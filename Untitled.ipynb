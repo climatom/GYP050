{
 "cells": [
  {
   "cell_type": "markdown",
   "id": "ae6b2db4",
   "metadata": {},
   "source": [
    "# <center> Workshop 4: Tropical Cyclones</center>\n",
    "\n",
    "Will include: \n",
    "- Toy models and sensitivity - changing sst; warm top vs cold top vs neutral; rh scenarios (\"dry high\") and (\"wet high\")\n",
    "\n",
    "Method: use warming fractions to perturb t by more or less relative to sst change. \n",
    "\n"
   ]
  }
 ],
 "metadata": {
  "kernelspec": {
   "display_name": "Python 3",
   "language": "python",
   "name": "python3"
  },
  "language_info": {
   "codemirror_mode": {
    "name": "ipython",
    "version": 3
   },
   "file_extension": ".py",
   "mimetype": "text/x-python",
   "name": "python",
   "nbconvert_exporter": "python",
   "pygments_lexer": "ipython3",
   "version": "3.8.8"
  }
 },
 "nbformat": 4,
 "nbformat_minor": 5
}
