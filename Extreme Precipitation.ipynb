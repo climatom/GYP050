{
 "cells": [
  {
   "cell_type": "markdown",
   "id": "b9979fdc",
   "metadata": {},
   "source": [
    "# <center> Workshop 3: Extreme Precipitation</center>"
   ]
  },
  {
   "cell_type": "markdown",
   "id": "bbdac509",
   "metadata": {},
   "source": [
    "# Introduction\n",
    "\n",
    "To follow\n",
    "\n",
    "Will include: \n",
    "\n",
    "- Threshold exceedance -- empirically determined. How does it change between now and in the future?\n",
    "- Uncertainty - drivers of uncertainty. \n",
    "\n",
    "[Climate Lab Book](https://www.climate-lab-book.ac.uk/2013/sources-of-uncertainty/#:~:text=There%20are%20three%20main%20sources,%2Dmodel%20differences%20(blue).)"
   ]
  },
  {
   "cell_type": "code",
   "execution_count": 100,
   "id": "06296c96",
   "metadata": {},
   "outputs": [
    {
     "name": "stdout",
     "output_type": "stream",
     "text": [
      "Prob of exceeding threshold = 0.756%\n"
     ]
    }
   ],
   "source": [
    "from netCDF4 import Dataset\n",
    "import os, cdsapi\n",
    "import zipfile\n",
    "import xarray as xa\n",
    "import numpy as np, pandas as pd\n",
    "import matplotlib.pyplot as plt\n",
    "%matplotlib inline\n",
    "seconds_in_day=60**2*24\n",
    "thresh=25 # mm/d\n",
    "lat=52.76\n",
    "lon=-1.23\n",
    "\n",
    "# Read in obs and format\n",
    "obs=pd.read_excel(\"Data/15min.xlsx\",index_col=0,parse_dates=True)\n",
    "obs=obs[~obs.index.duplicated()][\"P\"]\n",
    "new_index=pd.date_range(start=obs.index[0],end=obs.index[-1],freq=\"15Min\")\n",
    "obs=obs.reindex(new_index)\n",
    "daysum=obs.resample('D').apply(lambda x: np.sum(x.values))\n",
    "jja=daysum.loc[daysum.index.month.isin([6,7,8])]\n",
    "\n",
    "# What is the observed probability of p>thresh\n",
    "p=np.sum(jja.values[:]>thresh)/np.sum(~np.isnan(jja.values[:]))\n",
    "print(\"Prob of exceeding threshold = %.3f%%\"%(p*100))\n",
    "\n",
    "#annmax=daysum.resample(\"Y\").max()\n",
    "#print(daysum.max())\n",
    "\n",
    "# Change this to a folder on your computer. It is where the zip files will be stored, and\n",
    "# where their contents will be unpacked to. \n",
    "folder_store=\"/home/lunet/gytm3/Teaching/GYP050/Dev/CMIP6Data/Data/\" # <= CHANGE ME"
   ]
  },
  {
   "cell_type": "code",
   "execution_count": 101,
   "id": "351f3b78",
   "metadata": {},
   "outputs": [],
   "source": [
    "#plt.hist(daysum[daysum>0],bins=20)\n",
    "#z=annmax[\"P\"].loc[annmax[\"P\"]>10].sort_values()\n",
    "#daysum=obs[\"P\"].resample(\"D\").sum()\n",
    "#daysum=daysum.reindex(pd.date_range(start=daysum.index[0],end=daysum.index[-1],freq=\"1D\"))\n",
    "#cx=1/np.arange(1,len(z)+1)\n",
    "#fig,ax=plt.subplots(1,1)\n",
    "#ax.scatter(z,cx)\n",
    "#ax.set_yscale(\"log\")\n",
    "#ax.set_xscale(\"log\")"
   ]
  },
  {
   "cell_type": "code",
   "execution_count": null,
   "id": "56832899",
   "metadata": {},
   "outputs": [],
   "source": []
  },
  {
   "cell_type": "code",
   "execution_count": null,
   "id": "4acf484d",
   "metadata": {},
   "outputs": [],
   "source": []
  },
  {
   "cell_type": "markdown",
   "id": "c3001daf",
   "metadata": {},
   "source": [
    "Before trying to run the following code cell, make sure you have followed the instructions [here](https://docs.google.com/document/d/1cQlCfzge2XK7WToj3XPoafQVvVk6C5DLOhuoY8_UTNU/edit#)"
   ]
  },
  {
   "cell_type": "code",
   "execution_count": 102,
   "id": "60946eb1",
   "metadata": {},
   "outputs": [
    {
     "name": "stderr",
     "output_type": "stream",
     "text": [
      "2021-10-08 17:05:29,775 INFO Welcome to the CDS\n",
      "2021-10-08 17:05:29,775 INFO Sending request to https://cds.climate.copernicus.eu/api/v2/resources/projections-cmip6\n",
      "2021-10-08 17:05:29,795 INFO Request is queued\n",
      "2021-10-08 17:05:30,811 INFO Request is running\n",
      "2021-10-08 17:07:23,382 INFO Request is completed\n",
      "2021-10-08 17:07:23,382 INFO Downloading https://download-0009.copernicus-climate.eu/cache-compute-0009/cache/data1/adaptor.esgf_wps.retrieve-1633709209.0535746-27320-9-303497e5-4467-4104-aa13-00771bcd50f8.zip to /home/lunet/gytm3/Teaching/GYP050/Dev/CMIP6Data/Data/hist.zip (1.5M)\n",
      "2021-10-08 17:07:23,558 INFO Download rate 8.7M/s\n",
      "2021-10-08 17:07:23,583 INFO Welcome to the CDS\n",
      "2021-10-08 17:07:23,584 INFO Sending request to https://cds.climate.copernicus.eu/api/v2/resources/projections-cmip6\n",
      "2021-10-08 17:07:23,603 INFO Request is queued\n",
      "2021-10-08 17:07:24,619 INFO Request is running\n",
      "2021-10-08 17:09:17,191 INFO Request is completed\n",
      "2021-10-08 17:09:17,192 INFO Downloading https://download-0010.copernicus-climate.eu/cache-compute-0010/cache/data3/adaptor.esgf_wps.retrieve-1633709355.7367127-29979-5-047425a5-fd3d-4eb5-a7b1-f30b851d735a.zip to /home/lunet/gytm3/Teaching/GYP050/Dev/CMIP6Data/Data/future.zip (6M)\n",
      "2021-10-08 17:09:17,764 INFO Download rate 10.4M/s  \n"
     ]
    },
    {
     "data": {
      "text/plain": [
       "Result(content_length=6248946,content_type=application/zip,location=https://download-0010.copernicus-climate.eu/cache-compute-0010/cache/data3/adaptor.esgf_wps.retrieve-1633709355.7367127-29979-5-047425a5-fd3d-4eb5-a7b1-f30b851d735a.zip)"
      ]
     },
     "execution_count": 102,
     "metadata": {},
     "output_type": "execute_result"
    }
   ],
   "source": [
    "c = cdsapi.Client()\n",
    "c.retrieve( # Start downloading historical\n",
    "    'projections-cmip6',\n",
    "    {\n",
    "        'temporal_resolution': 'daily',\n",
    "        'experiment': 'historical',\n",
    "        'level': 'single_levels',\n",
    "        'variable': 'precipitation',\n",
    "        'model': 'access_cm2', # <= CHANGE ME TO GET A DIFFERENT MODEL \n",
    "        'date': '1995-01-01/2014-12-31',\n",
    "        'area': [\n",
    "            60, -5, 50,\n",
    "            5,\n",
    "        ],\n",
    "        'format': 'zip',\n",
    "    },\n",
    "    folder_store+'hist.zip',\n",
    "    \n",
    ") # End downloading historical\n",
    "\n",
    "c.retrieve( # Start downloading future\n",
    "    \n",
    "    'projections-cmip6',\n",
    "    {\n",
    "        'temporal_resolution': 'daily',\n",
    "        'experiment': 'ssp5_8_5',\n",
    "        'level': 'single_levels',\n",
    "        'variable': 'precipitation',\n",
    "        'model': 'access_cm2', # <= CHANGE ME (TO MATCH MODEL ABOVE)\n",
    "        'date': '2015-01-01/2100-12-31',\n",
    "        'area': [\n",
    "            60, -5, 50,\n",
    "            5,\n",
    "        ],\n",
    "        'format': 'zip',\n",
    "    },\n",
    "    folder_store+'future.zip'\n",
    ")# End downloading Future"
   ]
  },
  {
   "cell_type": "code",
   "execution_count": 103,
   "id": "7a049336",
   "metadata": {},
   "outputs": [],
   "source": [
    "# This code loops over the files placed in [ ] and then unzips each to the same directory\n",
    "for f in [folder_store+\"hist.zip\",folder_store+\"future.zip\"]:\n",
    "    with zipfile.ZipFile(f, 'r') as zip_ref:\n",
    "        zip_ref.extractall(folder_store)\n",
    "files=[folder_store + ii for ii in os.listdir(folder_store) if \".nc\" in ii] # selects only files with a \n",
    "# \".nc\" extension (these are the files we want!)"
   ]
  },
  {
   "cell_type": "code",
   "execution_count": 168,
   "id": "1a017956",
   "metadata": {},
   "outputs": [
    {
     "data": {
      "text/plain": [
       "<AxesSubplot:xlabel='time'>"
      ]
     },
     "execution_count": 168,
     "metadata": {},
     "output_type": "execute_result"
    },
    {
     "data": {
      "image/png": "[encoded data removed]",
      "text/plain": [
       "<Figure size 432x288 with 1 Axes>"
      ]
     },
     "metadata": {
      "needs_background": "light"
     },
     "output_type": "display_data"
    }
   ],
   "source": [
    "# xarray is used here to read in both the files as one dataset\n",
    "din=xa.open_mfdataset(files)\n",
    "# Now we extract the data for the grid point closes to Zhengzhou (34.7466° N, 113.6253° E)\n",
    "nearest=din.sel(lat=lat,lon=lon,method=\"nearest\")\n",
    "mod=nearest[\"pr\"].to_dataframe()*seconds_in_day\n",
    "#mod.index=nearest.time_bnd.values[:]\n",
    "mod_jja=mod[\"pr\"].loc[mod.index.month.isin([6,7,8])]\n",
    "\n",
    "# Plot here a running mean of annual precip -- to check everything looks ok. \n",
    "mod_jja.rolling(20).max().plot()\n",
    "\n",
    "\n",
    "# Select past (first 20 years)\n",
    "\n",
    "\n",
    "\n",
    "# Select future (end of century)\n",
    "\n",
    "\n",
    "\n",
    "# Compute ratio\n",
    "\n",
    "\n",
    "\n",
    "# Scale obs by this ratio\n",
    "\n",
    "\n",
    "\n",
    "\n",
    "# Compute exceedance frequency \n"
   ]
  },
  {
   "cell_type": "code",
   "execution_count": 164,
   "id": "f6af002c",
   "metadata": {},
   "outputs": [
    {
     "data": {
      "text/html": [
       "<div>\n",
       "<style scoped>\n",
       "    .dataframe tbody tr th:only-of-type {\n",
       "        vertical-align: middle;\n",
       "    }\n",
       "\n",
       "    .dataframe tbody tr th {\n",
       "        vertical-align: top;\n",
       "    }\n",
       "\n",
       "    .dataframe thead th {\n",
       "        text-align: right;\n",
       "    }\n",
       "</style>\n",
       "<table border=\"1\" class=\"dataframe\">\n",
       "  <thead>\n",
       "    <tr style=\"text-align: right;\">\n",
       "      <th></th>\n",
       "      <th>lat</th>\n",
       "      <th>lon</th>\n",
       "      <th>pr</th>\n",
       "    </tr>\n",
       "    <tr>\n",
       "      <th>time</th>\n",
       "      <th></th>\n",
       "      <th></th>\n",
       "      <th></th>\n",
       "    </tr>\n",
       "  </thead>\n",
       "  <tbody>\n",
       "    <tr>\n",
       "      <th>1995-01-01 12:00:00</th>\n",
       "      <td>53.125</td>\n",
       "      <td>-0.9375</td>\n",
       "      <td>2.557160e-05</td>\n",
       "    </tr>\n",
       "    <tr>\n",
       "      <th>1995-01-02 12:00:00</th>\n",
       "      <td>53.125</td>\n",
       "      <td>-0.9375</td>\n",
       "      <td>5.640383e-05</td>\n",
       "    </tr>\n",
       "    <tr>\n",
       "      <th>1995-01-03 12:00:00</th>\n",
       "      <td>53.125</td>\n",
       "      <td>-0.9375</td>\n",
       "      <td>5.557270e-05</td>\n",
       "    </tr>\n",
       "    <tr>\n",
       "      <th>1995-01-04 12:00:00</th>\n",
       "      <td>53.125</td>\n",
       "      <td>-0.9375</td>\n",
       "      <td>8.267559e-07</td>\n",
       "    </tr>\n",
       "    <tr>\n",
       "      <th>1995-01-05 12:00:00</th>\n",
       "      <td>53.125</td>\n",
       "      <td>-0.9375</td>\n",
       "      <td>7.384710e-05</td>\n",
       "    </tr>\n",
       "    <tr>\n",
       "      <th>...</th>\n",
       "      <td>...</td>\n",
       "      <td>...</td>\n",
       "      <td>...</td>\n",
       "    </tr>\n",
       "    <tr>\n",
       "      <th>2100-12-26 12:00:00</th>\n",
       "      <td>53.125</td>\n",
       "      <td>-0.9375</td>\n",
       "      <td>5.111351e-06</td>\n",
       "    </tr>\n",
       "    <tr>\n",
       "      <th>2100-12-27 12:00:00</th>\n",
       "      <td>53.125</td>\n",
       "      <td>-0.9375</td>\n",
       "      <td>2.174391e-04</td>\n",
       "    </tr>\n",
       "    <tr>\n",
       "      <th>2100-12-28 12:00:00</th>\n",
       "      <td>53.125</td>\n",
       "      <td>-0.9375</td>\n",
       "      <td>8.416287e-05</td>\n",
       "    </tr>\n",
       "    <tr>\n",
       "      <th>2100-12-29 12:00:00</th>\n",
       "      <td>53.125</td>\n",
       "      <td>-0.9375</td>\n",
       "      <td>1.207943e-04</td>\n",
       "    </tr>\n",
       "    <tr>\n",
       "      <th>2100-12-30 12:00:00</th>\n",
       "      <td>53.125</td>\n",
       "      <td>-0.9375</td>\n",
       "      <td>9.927783e-05</td>\n",
       "    </tr>\n",
       "  </tbody>\n",
       "</table>\n",
       "<p>38714 rows × 3 columns</p>\n",
       "</div>"
      ],
      "text/plain": [
       "                        lat     lon            pr\n",
       "time                                             \n",
       "1995-01-01 12:00:00  53.125 -0.9375  2.557160e-05\n",
       "1995-01-02 12:00:00  53.125 -0.9375  5.640383e-05\n",
       "1995-01-03 12:00:00  53.125 -0.9375  5.557270e-05\n",
       "1995-01-04 12:00:00  53.125 -0.9375  8.267559e-07\n",
       "1995-01-05 12:00:00  53.125 -0.9375  7.384710e-05\n",
       "...                     ...     ...           ...\n",
       "2100-12-26 12:00:00  53.125 -0.9375  5.111351e-06\n",
       "2100-12-27 12:00:00  53.125 -0.9375  2.174391e-04\n",
       "2100-12-28 12:00:00  53.125 -0.9375  8.416287e-05\n",
       "2100-12-29 12:00:00  53.125 -0.9375  1.207943e-04\n",
       "2100-12-30 12:00:00  53.125 -0.9375  9.927783e-05\n",
       "\n",
       "[38714 rows x 3 columns]"
      ]
     },
     "execution_count": 164,
     "metadata": {},
     "output_type": "execute_result"
    }
   ],
   "source": [
    "mod"
   ]
  },
  {
   "cell_type": "code",
   "execution_count": null,
   "id": "aa069fad",
   "metadata": {},
   "outputs": [],
   "source": [
    "# And below, select the 'historical' period (1995-2014)\n",
    "hist=data.sel(time=slice(\"1995-01-01 00:00\",\"2015-01-01 00:00\"))\n",
    "# Repeat, future -- let's take last 20 years of the century\n",
    "future=data.sel(time=slice(\"2080-01-01 00:00\",\"2101-01-01 00:00\"))"
   ]
  },
  {
   "cell_type": "markdown",
   "id": "2ab925ec",
   "metadata": {},
   "source": [
    "Something profound to go here. "
   ]
  },
  {
   "cell_type": "code",
   "execution_count": null,
   "id": "1ae95c38",
   "metadata": {},
   "outputs": [],
   "source": [
    "# What is the change in the mean and in the extreme (99.9th percentile)?\n",
    "pc_change_mean=np.mean(future.pr.values)/np.mean(hist.pr.values) # Change in mean\n",
    "pc_change_xx=np.percentile(future.pr.values,99.9)/np.percentile(hist.pr.values,99.9) # Change in extreme\n",
    "print(\"Mean precip in future is %.2f times that in the historical simulation\"%pc_change_mean)\n",
    "print(\"Extreme precip in future (99.99th %%-tile) is %.2f times that in the historical simulation\"%pc_change_xx)"
   ]
  },
  {
   "cell_type": "code",
   "execution_count": null,
   "id": "58a8f954",
   "metadata": {},
   "outputs": [],
   "source": []
  },
  {
   "cell_type": "code",
   "execution_count": null,
   "id": "1c4fc7b5",
   "metadata": {},
   "outputs": [],
   "source": []
  },
  {
   "cell_type": "code",
   "execution_count": null,
   "id": "b3e5215e",
   "metadata": {},
   "outputs": [],
   "source": []
  },
  {
   "cell_type": "code",
   "execution_count": null,
   "id": "f7dd30cd",
   "metadata": {},
   "outputs": [],
   "source": [
    "\n"
   ]
  }
 ],
 "metadata": {
  "kernelspec": {
   "display_name": "Python 3",
   "language": "python",
   "name": "python3"
  },
  "language_info": {
   "codemirror_mode": {
    "name": "ipython",
    "version": 3
   },
   "file_extension": ".py",
   "mimetype": "text/x-python",
   "name": "python",
   "nbconvert_exporter": "python",
   "pygments_lexer": "ipython3",
   "version": "3.8.8"
  }
 },
 "nbformat": 4,
 "nbformat_minor": 5
}
