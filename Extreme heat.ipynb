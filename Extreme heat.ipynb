{
 "cells": [
  {
   "cell_type": "markdown",
   "id": "b2b8ce21",
   "metadata": {},
   "source": [
    "# Extreme heat\n",
    "\n",
    "\n",
    "\n",
    "## Introduction\n",
    "\n",
    "To cover \n",
    "\n",
    "--> EDA\n",
    "--> Distribution fitting\n",
    "--> Difference in return periods\n",
    "\n",
    "Tasks at the end\n",
    "\n"
   ]
  },
  {
   "cell_type": "code",
   "execution_count": null,
   "id": "84af39eb",
   "metadata": {},
   "outputs": [],
   "source": []
  },
  {
   "cell_type": "code",
   "execution_count": 26,
   "id": "9e5162f8",
   "metadata": {},
   "outputs": [],
   "source": [
    "import pandas as pd, matplotlib.pyplot as plt, numpy as np\n",
    "from scipy import stats\n",
    "\n",
    "fin=\"Data/Larkana_Pakistan\"\n",
    "data=pd.read_csv(fin)"
   ]
  },
  {
   "cell_type": "code",
   "execution_count": 52,
   "id": "30cfe009",
   "metadata": {},
   "outputs": [
    {
     "name": "stdout",
     "output_type": "stream",
     "text": [
      "(34.420145571129574, 0.3475377178190941)\n"
     ]
    },
    {
     "data": {
      "image/png": "[encoded data removed]",
      "text/plain": [
       "<Figure size 432x288 with 1 Axes>"
      ]
     },
     "metadata": {
      "needs_background": "light"
     },
     "output_type": "display_data"
    }
   ],
   "source": [
    "xref=np.linspace(data[\"mdi\"].min()-1,data[\"mdi\"].max()+1)\n",
    "\n",
    "fig,ax=plt.subplots(1)\n",
    "ax.hist(data[\"mdi\"],bins=7,density=True,facecolor='w',edgecolor='k')\n",
    "params=stats.gumbel_l.fit(data[\"mdi\"])\n",
    "print(params)\n",
    "pdf=stats.gumbel_l.pdf(xref,params[0],params[1])\n",
    "ax.plot(xref,pdf)\n",
    "ax.grid()"
   ]
  },
  {
   "cell_type": "code",
   "execution_count": 34,
   "id": "621fc84e",
   "metadata": {},
   "outputs": [
    {
     "data": {
      "text/plain": [
       "array([[0.00313684, 0.0031448 , 0.02495125],\n",
       "       [0.00333828, 0.00315868, 0.02501189],\n",
       "       [0.00355198, 0.00317263, 0.02507224],\n",
       "       [0.0037786 , 0.00318663, 0.02513229],\n",
       "       [0.0040188 , 0.0032007 , 0.02519203],\n",
       "       [0.00427329, 0.00321482, 0.02525145],\n",
       "       [0.00454276, 0.003229  , 0.02531056],\n",
       "       [0.00482796, 0.00324324, 0.02536935],\n",
       "       [0.00512963, 0.00325755, 0.02542781],\n",
       "       [0.00544851, 0.00327191, 0.02548593],\n",
       "       [0.00578536, 0.00328633, 0.02554371],\n",
       "       [0.00614093, 0.00330081, 0.02560115],\n",
       "       [0.00651599, 0.00331535, 0.02565823],\n",
       "       [0.00691126, 0.00332996, 0.02571496],\n",
       "       [0.00732747, 0.00334462, 0.02577133],\n",
       "       [0.0077653 , 0.00335935, 0.02582733],\n",
       "       [0.0082254 , 0.00337414, 0.02588295],\n",
       "       [0.00870837, 0.00338899, 0.0259382 ],\n",
       "       [0.00921473, 0.0034039 , 0.02599306],\n",
       "       [0.00974493, 0.00341887, 0.02604753],\n",
       "       [0.01029932, 0.00343391, 0.0261016 ],\n",
       "       [0.01087812, 0.00344901, 0.02615527],\n",
       "       [0.01148142, 0.00346417, 0.02620853],\n",
       "       [0.01210915, 0.0034794 , 0.02626138],\n",
       "       [0.01276104, 0.00349469, 0.02631381],\n",
       "       [0.01343661, 0.00351004, 0.02636581],\n",
       "       [0.01413512, 0.00352546, 0.02641738],\n",
       "       [0.01485557, 0.00354094, 0.02646851],\n",
       "       [0.01559663, 0.00355648, 0.02651919],\n",
       "       [0.01635662, 0.00357209, 0.02656943],\n",
       "       [0.01713348, 0.00358777, 0.02661921],\n",
       "       [0.01792473, 0.00360351, 0.02666853],\n",
       "       [0.01872743, 0.00361931, 0.02671738],\n",
       "       [0.01953812, 0.00363519, 0.02676576],\n",
       "       [0.02035283, 0.00365112, 0.02681366],\n",
       "       [0.02116702, 0.00366712, 0.02686107],\n",
       "       [0.02197557, 0.00368319, 0.02690799],\n",
       "       [0.02277273, 0.00369933, 0.02695441],\n",
       "       [0.02355216, 0.00371553, 0.02700033],\n",
       "       [0.02430686, 0.0037318 , 0.02704574],\n",
       "       [0.02502927, 0.00374814, 0.02709063],\n",
       "       [0.02571123, 0.00376454, 0.027135  ],\n",
       "       [0.02634404, 0.00378101, 0.02717884],\n",
       "       [0.02691857, 0.00379755, 0.02722214],\n",
       "       [0.02742531, 0.00381416, 0.0272649 ],\n",
       "       [0.02785453, 0.00383084, 0.02730712],\n",
       "       [0.02819639, 0.00384758, 0.02734878],\n",
       "       [0.02844118, 0.0038644 , 0.02738988],\n",
       "       [0.02857946, 0.00388128, 0.02743041],\n",
       "       [0.02860239, 0.00389823, 0.02747038]])"
      ]
     },
     "execution_count": 34,
     "metadata": {},
     "output_type": "execute_result"
    }
   ],
   "source": [
    "pdf"
   ]
  }
 ],
 "metadata": {
  "kernelspec": {
   "display_name": "Python 3",
   "language": "python",
   "name": "python3"
  },
  "language_info": {
   "codemirror_mode": {
    "name": "ipython",
    "version": 3
   },
   "file_extension": ".py",
   "mimetype": "text/x-python",
   "name": "python",
   "nbconvert_exporter": "python",
   "pygments_lexer": "ipython3",
   "version": "3.8.8"
  }
 },
 "nbformat": 4,
 "nbformat_minor": 5
}
