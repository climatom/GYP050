{
 "cells": [
  {
   "cell_type": "markdown",
   "metadata": {},
   "source": [
    "# Statistics Primer\n",
    "\n",
    "## Introduction\n",
    "Points to cover:\n",
    "\n",
    "- Frequency \n",
    "- Non-exceedance probability \n",
    "- Empirical to theoretical distributions\n",
    "\n"
   ]
  },
  {
   "cell_type": "code",
   "execution_count": 65,
   "metadata": {},
   "outputs": [],
   "source": [
    "import numpy as np, matplotlib.pyplot as plt\n",
    "from math import *\n",
    "%matplotlib inline"
   ]
  },
  {
   "cell_type": "markdown",
   "metadata": {},
   "source": [
    "## Non-parametric frequentist analysis\n",
    "\n",
    "Intro to come\n",
    "\n",
    "The average height of a UK woman (as of 2010) was [161.6 cm](https://www.bbc.co.uk/news/uk-11534042). "
   ]
  },
  {
   "cell_type": "code",
   "execution_count": 66,
   "metadata": {},
   "outputs": [
    {
     "data": {
      "text/plain": [
       "Text(0, 0.5, 'Frequency (count)')"
      ]
     },
     "execution_count": 66,
     "metadata": {},
     "output_type": "execute_result"
    },
    {
     "data": {
      "image/png": "[encoded data removed]",
      "text/plain": [
       "<Figure size 432x288 with 1 Axes>"
      ]
     },
     "metadata": {
      "needs_background": "light"
     },
     "output_type": "display_data"
    }
   ],
   "source": [
    "heights=np.random.normal(loc=161.6,scale=10,size=10000) # This takes a random sample of 10000 heights \n",
    "# representative of the UK female population\n",
    "\n",
    "# Lets make a histogram of these heights\n",
    "fig,ax=plt.subplots(1,1)\n",
    "out=ax.hist(heights,bins=20,facecolor='white',edgecolor='black')\n",
    "ax.set_xlabel(\"Height (cm)\")\n",
    "ax.set_ylabel(\"Frequency (count)\")"
   ]
  },
  {
   "cell_type": "markdown",
   "metadata": {},
   "source": [
    "The chart above should be familiar: it is a histogram, and indicates how many women have heights between the values marked by the edges of the vertical bars. A more common application for this type of \"frequentist\" analysis, though, is to ask how many -- or what *proportion* of observations (in this case, heights) -- fall above or below a given value. \n",
    "\n",
    "For example, imagine you were designing a chair for female scientists, whose dimensions should suit their heights. Because of engineering costs, it is decided that the chair should suit at least 98 % of women. (A specialist design will be developed for the shortest and tallest 1 %). \n",
    "\n",
    "To set the design standard, then, we therefore need to find the height that only 1 % of women are shorter than (the *lower* bound); *and* the height that only 1 % of women are taller than (the *upper* bound). Enter the \"percentile\" -- the value that 100-k % of the data exceed (where k is a value between 0 and 100). See below for how we compute the lower and upper bounds.  "
   ]
  },
  {
   "cell_type": "code",
   "execution_count": 67,
   "metadata": {},
   "outputs": [
    {
     "name": "stdout",
     "output_type": "stream",
     "text": [
      "Lower bound is 138.4 cm\n",
      "Upper bound is 184.4 cm\n"
     ]
    }
   ],
   "source": [
    "lower=np.percentile(heights,1) # k is 1; We are finding the \"1st percentile\"\n",
    "upper=np.percentile(heights,99) # k is 99; We are finding the \"99th percentile\"\n",
    "print(\"Lower bound is %.1f cm\\nUpper bound is %.1f cm\"%(lower, upper))"
   ]
  },
  {
   "cell_type": "markdown",
   "metadata": {},
   "source": [
    "So, if there are 1 million female scientists in the UK, how many will be excluded by the lower/upper bounds of our design standard? \n",
    "\n",
    "The answer to this should be quite obvious after a moment's pause. We have, by definition, excluded 2 % of the population with our design standard (i.e., 1 in 50 women). 2 % of 1 million is 20,000: this is how many scientists would need a custom chair. \n",
    "\n",
    "Why am I labouring this relatively obvious point? Because this general approach -- where we have a *sample* of data and must deduce some quantitiy relating to the *entire population* -- is common. Note that here, our sample is 10,000 strong, and the population comprises 1 million individuals. We used the sample to compute the percentiles and then used that (which we implicitly assume represents the population as a whole) to infer something about that wider population. \n",
    "\n",
    "Although this example deals with heights, I hope you can see how the same approach could be used to assess the threshold to identify temperatures that are so hot they only occur on average once every 50 years (i.e., the 98 th percentile in a dataset of annual maximum temperatures) -- or indeed thresholds in any other meteorological quantity. \n",
    "\n",
    "Now imagine the chair designing committe come back to us and say that they were too hasty. They do not want to exclude 2 women in every hundred (or 1 in 50), and instead want to exclude only 1 in every 20,000. To make things a bit simpler, design innovations mean the chair can fit scientists regardless of how short they are; we therefore only need to identify a new upper bound to inform the chair's design (the height *exceeded* by only 1 in 20,000 women).  \n",
    "\n",
    "Can we use the percentile function for this? (Note that 1 in 20,000 is the 100-(1/20,000 * 100) = 99.995 th percentile)? Let's try... "
   ]
  },
  {
   "cell_type": "code",
   "execution_count": 68,
   "metadata": {},
   "outputs": [
    {
     "name": "stdout",
     "output_type": "stream",
     "text": [
      "Finding the 99.99500 th percentile...\n",
      "... The answer is 195.1 cm\n"
     ]
    }
   ],
   "source": [
    "percentile=100-(1/20000*100)\n",
    "print(\"Finding the %.5f th percentile...\"%percentile)\n",
    "upper=np.percentile(heights,percentile) # k is 99; We are finding the \"99th percentile\"\n",
    "print(\"... The answer is %.1f cm\"%upper)"
   ]
  },
  {
   "cell_type": "markdown",
   "metadata": {},
   "source": [
    "Certainly! \n",
    "\n",
    "... Although, all this shows is that python does not return an error. Does the answer make any sense? \n",
    "\n",
    "Run the code cell below to shed some more light on this. We will try to find the 100-(1/40,000 * 100) = 99.99975 th percentile -- corresponding to a value twice as rare. "
   ]
  },
  {
   "cell_type": "code",
   "execution_count": 69,
   "metadata": {},
   "outputs": [
    {
     "name": "stdout",
     "output_type": "stream",
     "text": [
      "Finding the 99.99975 th percentile...\n",
      "Upper bound is 195.6 cm\n"
     ]
    }
   ],
   "source": [
    "percentile=100-(1/400000*100) # Note that we're now finidng the percentile corresponding to a value twice as rare\n",
    "print(\"Finding the %.5f th percentile...\"%percentile)\n",
    "upper=np.percentile(heights,percentile)\n",
    "print(\"Upper bound is %.1f cm\"%upper)"
   ]
  },
  {
   "cell_type": "markdown",
   "metadata": {},
   "source": [
    "Hmmm. Something isn't right. The same answer has been returned, even though we tried to find the height exceeded by 1 in 40,000 women (rather than 1 in 20,000). \n",
    "\n",
    "Maybe you've figured it out already, but run the code cell below to help identify what's happening."
   ]
  },
  {
   "cell_type": "code",
   "execution_count": 70,
   "metadata": {},
   "outputs": [
    {
     "name": "stdout",
     "output_type": "stream",
     "text": [
      "The maximum value in the dataset (that constitutes the heights of 10000 individuals) is 195.6 cm\n"
     ]
    }
   ],
   "source": [
    "print(\"The maximum value in the dataset (that constitutes the heights of %.0f individuals) is %.1f cm\" % \\\n",
    "      (len(heights),heights.max()))"
   ]
  },
  {
   "cell_type": "markdown",
   "metadata": {},
   "source": [
    "This highlights that we only have 10,000 individuals in our dataset, and makes clear that the percentiles we just evaluated have returned nothing more than the maximum hieght in our 10,000-member dataset. Why? Because the percentile function -- as applied to applied -- is rank based and [non-parametric](https://en.wikipedia.org/wiki/Nonparametric_statistics). \n",
    "\n",
    "Whilst such non-parametrics methods are very useful, they have their limitations. For example, because they are not guided by an underlying theory about the data-generating process, we have no way of inferring what should happen beyond the bounds of our observations. Parametric methods that leverage probability distributions address this limitation. \n",
    "\n",
    "## Parametric frequentist analysis\n",
    "Blurb here about what they are\n",
    "\n",
    "Normal distribution: \n",
    "\n",
    "\\begin{aligned}\n",
    "p(x)=\\frac{1}{\\sigma\\sqrt{2\\pi}}e^{-\\frac{1}{2}(\\frac{x-\\mu}{\\sigma})^2}\n",
    "\\end{aligned}\n",
    "\n",
    "Whilst this may look complicated, it isn't. The function will simply return a value between 0-1 depending on the value of $x$, and the distribution parameters: $\\sigma$ (the [standard deviation](https://en.wikipedia.org/wiki/Standard_deviation)), and $\\mu$ (the [mean](https://en.wikipedia.org/wiki/Mean)). Note that the other terms you may not recognise are [$\\pi$](https://en.wikipedia.org/wiki/Pi) and $e$ is [Euler's number](https://en.wikipedia.org/wiki/E_(mathematical_constant). \n",
    "\n",
    "In the plot below we evaluate $p(x)$ for all values of $x$ (between 100 and 220 cm) using the equation above. We then plot this on the histogram, which has been scaled so that that the bars sum to 1. This enables a fair comparison to the probability density function defined above. "
   ]
  },
  {
   "cell_type": "code",
   "execution_count": 71,
   "metadata": {},
   "outputs": [
    {
     "data": {
      "text/plain": [
       "Text(0, 0.5, 'p(x)')"
      ]
     },
     "execution_count": 71,
     "metadata": {},
     "output_type": "execute_result"
    },
    {
     "data": {
      "image/png": "[encoded data removed]",
      "text/plain": [
       "<Figure size 432x288 with 1 Axes>"
      ]
     },
     "metadata": {
      "needs_background": "light"
     },
     "output_type": "display_data"
    }
   ],
   "source": [
    "x=np.linspace(100,220,100) # set up values of x (heights) to query \n",
    "sigma=10\n",
    "mean=161.6\n",
    "px=1/(sigma*np.sqrt(2*np.pi))*np.exp(-1/2.*((x-mean)/sigma)**2)\n",
    "fig,ax=plt.subplots(1,1)\n",
    "ax.plot(x,px,color='red')\n",
    "out=ax.hist(heights,20,density=True,facecolor='white',edgecolor='black')\n",
    "ax.set_xlabel(\"Height (cm)\")\n",
    "ax.set_ylabel(\"p(x)\")"
   ]
  },
  {
   "cell_type": "markdown",
   "metadata": {},
   "source": [
    "Cumulative Distribution Function (CDF): \n",
    "\n",
    "\\begin{aligned}\n",
    "d(x)=\\frac{1}{2}[erf(\\frac{x}{\\sqrt(2)})+1]\n",
    "\\end{aligned}\n",
    "\n",
    "Where $x$ has been transformed into a [\"standard normal distribution\"](https://mathworld.wolfram.com/StandardNormalDistribution.html) -- i.e., with a mean of 0 and a standard deviation of 1, by subtracting the mean of $x$ ($\\mu$) from each value, and then dividing by the standard deviation ($\\sigma$). Note that $erf$ is the [error function](https://en.wikipedia.org/wiki/Error_function). \n",
    "\n",
    "Below, we evaluate and plot $d(x)$ for a prescribed range of heights, given a mean of $\\mu$=161.6 cm and standard deviation of $\\sigma$=10 cm. \n",
    "\n",
    "We also plot the empirical non-exceedance probability, simply defined as the fraction of the 10,000 member sample with heights above the same points in the arbitrary list. The code for this is included below, but there's no need to \"learn it\"; you can just observe/compare the empirical (red) and theroetical (blue) non-exceedance probabilities in the plot. "
   ]
  },
  {
   "cell_type": "code",
   "execution_count": 72,
   "metadata": {},
   "outputs": [
    {
     "data": {
      "text/plain": [
       "Text(0, 0.5, 'd(x)')"
      ]
     },
     "execution_count": 72,
     "metadata": {},
     "output_type": "execute_result"
    },
    {
     "data": {
      "image/png": "[encoded data removed]",
      "text/plain": [
       "<Figure size 432x288 with 1 Axes>"
      ]
     },
     "metadata": {
      "needs_background": "light"
     },
     "output_type": "display_data"
    }
   ],
   "source": [
    "x_standard=(x-mean)/sigma # Convert to standard normal\n",
    "dx=np.array([1/2.*(erf(i/np.sqrt(2))+1)*100 for i in x_standard]) # compute d(x)\n",
    "empirical_dx=np.array([100-np.sum(heights>i)/np.float(len(heights))*100 for i in heights]) # empirical d(x)\n",
    "# Plot\n",
    "fig,ax=plt.subplots(1,1)\n",
    "ax.plot(x,dx)\n",
    "ax.plot(heights[np.argsort(heights)],empirical_dx[np.argsort(heights)],color='red',linestyle='--')\n",
    "ax.grid()\n",
    "ax.set_xlabel(\"Height (cm)\")\n",
    "ax.set_ylabel(\"d(x)\")"
   ]
  },
  {
   "cell_type": "markdown",
   "metadata": {},
   "source": [
    ".. Note similarity -- note extrapolation. Evaluate inverse of the CDF using scipy.stats\n",
    "\n",
    "Highlight family of statistical distributions. \n",
    "\n",
    "Leave some questions "
   ]
  },
  {
   "cell_type": "code",
   "execution_count": 73,
   "metadata": {},
   "outputs": [
    {
     "ename": "SyntaxError",
     "evalue": "invalid syntax (<ipython-input-73-b1b415c96bb9>, line 1)",
     "output_type": "error",
     "traceback": [
      "\u001b[0;36m  File \u001b[0;32m\"<ipython-input-73-b1b415c96bb9>\"\u001b[0;36m, line \u001b[0;32m1\u001b[0m\n\u001b[0;31m    Plot the CDF\u001b[0m\n\u001b[0m           ^\u001b[0m\n\u001b[0;31mSyntaxError\u001b[0m\u001b[0;31m:\u001b[0m invalid syntax\n"
     ]
    }
   ],
   "source": []
  }
 ],
 "metadata": {
  "kernelspec": {
   "display_name": "Python 3",
   "language": "python",
   "name": "python3"
  },
  "language_info": {
   "codemirror_mode": {
    "name": "ipython",
    "version": 3
   },
   "file_extension": ".py",
   "mimetype": "text/x-python",
   "name": "python",
   "nbconvert_exporter": "python",
   "pygments_lexer": "ipython3",
   "version": "3.6.10"
  }
 },
 "nbformat": 4,
 "nbformat_minor": 4
}
