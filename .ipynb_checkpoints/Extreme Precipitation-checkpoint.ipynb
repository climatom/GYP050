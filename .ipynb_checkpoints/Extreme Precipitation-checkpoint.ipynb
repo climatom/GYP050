{
 "cells": [
  {
   "cell_type": "markdown",
   "id": "b9979fdc",
   "metadata": {},
   "source": [
    "# <center> Workshop 3: Extreme Precipitation</center>"
   ]
  },
  {
   "cell_type": "markdown",
   "id": "bbdac509",
   "metadata": {},
   "source": [
    "# Introduction\n",
    "\n",
    "To follow\n",
    "\n",
    "Will include: \n",
    "\n",
    "- Threshold exceedance -- empirically determined. How does it change between now and in the future?\n",
    "- Uncertainty "
   ]
  },
  {
   "cell_type": "code",
   "execution_count": 135,
   "id": "06296c96",
   "metadata": {},
   "outputs": [],
   "source": [
    "from netCDF4 import Dataset\n",
    "import cdsapi\n",
    "import zipfile\n",
    "import xarray as xa\n",
    "import numpy as np\n",
    "import matplotlib.pyplot as plt\n",
    "%matplotlib inline\n",
    "seconds_in_day=60**2*24\n",
    "\n",
    "# Change this to a folder on your computer. It is where the zip files will be stored, and\n",
    "# where their contents will be unpacked to. \n",
    "folder_store=\"/home/lunet/gytm3/Teaching/GYP050/Dev/CMIP6Data/Data/\" # <= CHANGE ME"
   ]
  },
  {
   "cell_type": "markdown",
   "id": "c3001daf",
   "metadata": {},
   "source": [
    "Before trying to run the following code cell, make sure you have followed the instructions [here](https://docs.google.com/document/d/1cQlCfzge2XK7WToj3XPoafQVvVk6C5DLOhuoY8_UTNU/edit#)"
   ]
  },
  {
   "cell_type": "code",
   "execution_count": 136,
   "id": "60946eb1",
   "metadata": {},
   "outputs": [
    {
     "name": "stderr",
     "output_type": "stream",
     "text": [
      "2021-09-08 16:23:09,320 INFO Welcome to the CDS\n",
      "2021-09-08 16:23:09,320 INFO Sending request to https://cds.climate.copernicus.eu/api/v2/resources/projections-cmip6\n",
      "2021-09-08 16:23:09,358 INFO Request is queued\n",
      "2021-09-08 16:23:10,374 INFO Request is running\n",
      "2021-09-08 16:24:24,451 INFO Request is completed\n",
      "2021-09-08 16:24:24,452 INFO Downloading https://download-0010.copernicus-climate.eu/cache-compute-0010/cache/data6/adaptor.esgf_wps.retrieve-1631114645.5778332-13044-19-8dd134be-4d50-4b75-90f5-7d1c004af788.zip to /home/lunet/gytm3/Teaching/GYP050/Dev/CMIP6Data/Data/hist.zip (1.3M)\n",
      "2021-09-08 16:24:24,646 INFO Download rate 6.8M/s   \n",
      "2021-09-08 16:24:24,675 INFO Welcome to the CDS\n",
      "2021-09-08 16:24:24,676 INFO Sending request to https://cds.climate.copernicus.eu/api/v2/resources/projections-cmip6\n",
      "2021-09-08 16:24:24,698 INFO Request is queued\n",
      "2021-09-08 16:24:25,716 INFO Request is running\n",
      "2021-09-08 16:27:16,032 INFO Request is completed\n",
      "2021-09-08 16:27:16,033 INFO Downloading https://download-0014.copernicus-climate.eu/cache-compute-0014/cache/data2/adaptor.esgf_wps.retrieve-1631114785.1452897-16660-3-8852233f-2a55-49a7-9fc7-74785a3928d4.zip to /home/lunet/gytm3/Teaching/GYP050/Dev/CMIP6Data/Data/future.zip (5M)\n",
      "2021-09-08 16:27:16,696 INFO Download rate 7.6M/s   \n"
     ]
    },
    {
     "data": {
      "text/plain": [
       "Result(content_length=5294411,content_type=application/zip,location=https://download-0014.copernicus-climate.eu/cache-compute-0014/cache/data2/adaptor.esgf_wps.retrieve-1631114785.1452897-16660-3-8852233f-2a55-49a7-9fc7-74785a3928d4.zip)"
      ]
     },
     "execution_count": 136,
     "metadata": {},
     "output_type": "execute_result"
    }
   ],
   "source": [
    "c = cdsapi.Client()\n",
    "c.retrieve( # Start downloading historical\n",
    "    'projections-cmip6',\n",
    "    {\n",
    "        'temporal_resolution': 'daily',\n",
    "        'experiment': 'historical',\n",
    "        'level': 'single_levels',\n",
    "        'variable': 'precipitation',\n",
    "        'model': 'access_cm2', # CHANGE THIS TO GET A DIFFERENT MODEL <= CHANGE ME\n",
    "        'date': '1995-01-01/2014-12-31',\n",
    "        'area': [\n",
    "            40, 110, 30,\n",
    "            120,\n",
    "        ],\n",
    "        'format': 'zip',\n",
    "    },\n",
    "    folder_store+'hist.zip',\n",
    "    \n",
    ") # End downloading historical\n",
    "\n",
    "c.retrieve( # Start downloading future\n",
    "    \n",
    "    'projections-cmip6',\n",
    "    {\n",
    "        'temporal_resolution': 'daily',\n",
    "        'experiment': 'ssp5_8_5',\n",
    "        'level': 'single_levels',\n",
    "        'variable': 'precipitation',\n",
    "        'model': 'access_cm2', # THIS SHOULD MATCH THE MODEL ABOVE <= CHANGE ME\n",
    "        'date': '2015-01-01/2100-12-31',\n",
    "        'area': [\n",
    "            40, 110, 30,\n",
    "            120,\n",
    "        ],\n",
    "        'format': 'zip',\n",
    "    },\n",
    "    folder_store+'future.zip'\n",
    ")# End downloading Future"
   ]
  },
  {
   "cell_type": "code",
   "execution_count": 141,
   "id": "7a049336",
   "metadata": {},
   "outputs": [
    {
     "ename": "FileNotFoundError",
     "evalue": "[Errno 2] No such file or directory: '/home/lunet/gytm3/Teaching/GYP050/Dev/CMIP6Data/Data/hist.zip'",
     "output_type": "error",
     "traceback": [
      "\u001b[0;31m---------------------------------------------------------------------------\u001b[0m",
      "\u001b[0;31mFileNotFoundError\u001b[0m                         Traceback (most recent call last)",
      "\u001b[0;32m<ipython-input-141-082a1cf4be59>\u001b[0m in \u001b[0;36m<module>\u001b[0;34m\u001b[0m\n\u001b[1;32m      1\u001b[0m \u001b[0;31m# This code loops over the files placed in [ ] and then unzips each to the same directory\u001b[0m\u001b[0;34m\u001b[0m\u001b[0;34m\u001b[0m\u001b[0;34m\u001b[0m\u001b[0m\n\u001b[1;32m      2\u001b[0m \u001b[0;32mfor\u001b[0m \u001b[0mf\u001b[0m \u001b[0;32min\u001b[0m \u001b[0;34m[\u001b[0m\u001b[0mfolder_store\u001b[0m\u001b[0;34m+\u001b[0m\u001b[0;34m\"hist.zip\"\u001b[0m\u001b[0;34m,\u001b[0m\u001b[0mfolder_store\u001b[0m\u001b[0;34m+\u001b[0m\u001b[0;34m\"future.zip\"\u001b[0m\u001b[0;34m]\u001b[0m\u001b[0;34m:\u001b[0m\u001b[0;34m\u001b[0m\u001b[0;34m\u001b[0m\u001b[0m\n\u001b[0;32m----> 3\u001b[0;31m     \u001b[0;32mwith\u001b[0m \u001b[0mzipfile\u001b[0m\u001b[0;34m.\u001b[0m\u001b[0mZipFile\u001b[0m\u001b[0;34m(\u001b[0m\u001b[0mf\u001b[0m\u001b[0;34m,\u001b[0m \u001b[0;34m'r'\u001b[0m\u001b[0;34m)\u001b[0m \u001b[0;32mas\u001b[0m \u001b[0mzip_ref\u001b[0m\u001b[0;34m:\u001b[0m\u001b[0;34m\u001b[0m\u001b[0;34m\u001b[0m\u001b[0m\n\u001b[0m\u001b[1;32m      4\u001b[0m         \u001b[0mzip_ref\u001b[0m\u001b[0;34m.\u001b[0m\u001b[0mextractall\u001b[0m\u001b[0;34m(\u001b[0m\u001b[0mfolder_store\u001b[0m\u001b[0;34m)\u001b[0m\u001b[0;34m\u001b[0m\u001b[0;34m\u001b[0m\u001b[0m\n\u001b[1;32m      5\u001b[0m \u001b[0mfiles\u001b[0m\u001b[0;34m=\u001b[0m\u001b[0;34m[\u001b[0m\u001b[0mfolder_store\u001b[0m \u001b[0;34m+\u001b[0m \u001b[0mii\u001b[0m \u001b[0;32mfor\u001b[0m \u001b[0mii\u001b[0m \u001b[0;32min\u001b[0m \u001b[0mos\u001b[0m\u001b[0;34m.\u001b[0m\u001b[0mlistdir\u001b[0m\u001b[0;34m(\u001b[0m\u001b[0mfolder_store\u001b[0m\u001b[0;34m)\u001b[0m \u001b[0;32mif\u001b[0m \u001b[0;34m\".nc\"\u001b[0m \u001b[0;32min\u001b[0m \u001b[0mii\u001b[0m\u001b[0;34m]\u001b[0m \u001b[0;31m# selects only files with a\u001b[0m\u001b[0;34m\u001b[0m\u001b[0;34m\u001b[0m\u001b[0m\n",
      "\u001b[0;32m~/anaconda3/lib/python3.8/zipfile.py\u001b[0m in \u001b[0;36m__init__\u001b[0;34m(self, file, mode, compression, allowZip64, compresslevel, strict_timestamps)\u001b[0m\n\u001b[1;32m   1249\u001b[0m             \u001b[0;32mwhile\u001b[0m \u001b[0;32mTrue\u001b[0m\u001b[0;34m:\u001b[0m\u001b[0;34m\u001b[0m\u001b[0;34m\u001b[0m\u001b[0m\n\u001b[1;32m   1250\u001b[0m                 \u001b[0;32mtry\u001b[0m\u001b[0;34m:\u001b[0m\u001b[0;34m\u001b[0m\u001b[0;34m\u001b[0m\u001b[0m\n\u001b[0;32m-> 1251\u001b[0;31m                     \u001b[0mself\u001b[0m\u001b[0;34m.\u001b[0m\u001b[0mfp\u001b[0m \u001b[0;34m=\u001b[0m \u001b[0mio\u001b[0m\u001b[0;34m.\u001b[0m\u001b[0mopen\u001b[0m\u001b[0;34m(\u001b[0m\u001b[0mfile\u001b[0m\u001b[0;34m,\u001b[0m \u001b[0mfilemode\u001b[0m\u001b[0;34m)\u001b[0m\u001b[0;34m\u001b[0m\u001b[0;34m\u001b[0m\u001b[0m\n\u001b[0m\u001b[1;32m   1252\u001b[0m                 \u001b[0;32mexcept\u001b[0m \u001b[0mOSError\u001b[0m\u001b[0;34m:\u001b[0m\u001b[0;34m\u001b[0m\u001b[0;34m\u001b[0m\u001b[0m\n\u001b[1;32m   1253\u001b[0m                     \u001b[0;32mif\u001b[0m \u001b[0mfilemode\u001b[0m \u001b[0;32min\u001b[0m \u001b[0mmodeDict\u001b[0m\u001b[0;34m:\u001b[0m\u001b[0;34m\u001b[0m\u001b[0;34m\u001b[0m\u001b[0m\n",
      "\u001b[0;31mFileNotFoundError\u001b[0m: [Errno 2] No such file or directory: '/home/lunet/gytm3/Teaching/GYP050/Dev/CMIP6Data/Data/hist.zip'"
     ]
    }
   ],
   "source": [
    "# This code loops over the files placed in [ ] and then unzips each to the same directory\n",
    "for f in [folder_store+\"hist.zip\",folder_store+\"future.zip\"]:\n",
    "    with zipfile.ZipFile(f, 'r') as zip_ref:\n",
    "        zip_ref.extractall(folder_store)\n",
    "files=[folder_store + ii for ii in os.listdir(folder_store) if \".nc\" in ii] # selects only files with a \n",
    "# \".nc\" extension (these are the files we want!)"
   ]
  },
  {
   "cell_type": "code",
   "execution_count": 147,
   "id": "1a017956",
   "metadata": {},
   "outputs": [
    {
     "data": {
      "text/plain": [
       "[<matplotlib.lines.Line2D at 0x7f628d80d400>]"
      ]
     },
     "execution_count": 147,
     "metadata": {},
     "output_type": "execute_result"
    },
    {
     "data": {
      "image/png": "[encoded data removed]",
      "text/plain": [
       "<Figure size 432x288 with 1 Axes>"
      ]
     },
     "metadata": {
      "needs_background": "light"
     },
     "output_type": "display_data"
    }
   ],
   "source": [
    "# xarray is used here to read in both the files as one dataset\n",
    "data=xa.open_mfdataset(files)\n",
    "# Now we extract the data for the grid point closes to Zhengzhou (34.7466° N, 113.6253° E)\n",
    "data=data.sel(lat=34.75,lon=113.63,method=\"nearest\")\n",
    "\n",
    "# Plot here a running mean of annual precip -- to check everything looks ok. \n",
    "fig,ax=plt.subplots(1,1)\n",
    "rolling=data.pr.rolling(time=365, center=True).mean()\n",
    "rolling.plot(ax=ax) # Units are in kg/m^2/second. "
   ]
  },
  {
   "cell_type": "code",
   "execution_count": 143,
   "id": "aa069fad",
   "metadata": {},
   "outputs": [],
   "source": [
    "# And below, select the 'historical' period (1995-2014)\n",
    "hist=data.sel(time=slice(\"1995-01-01 00:00\",\"2015-01-01 00:00\"))\n",
    "# Repeat, future -- let's take last 20 years of the century\n",
    "future=data.sel(time=slice(\"2080-01-01 00:00\",\"2101-01-01 00:00\"))"
   ]
  },
  {
   "cell_type": "markdown",
   "id": "2ab925ec",
   "metadata": {},
   "source": [
    "Something profound to go here. "
   ]
  },
  {
   "cell_type": "code",
   "execution_count": 144,
   "id": "1ae95c38",
   "metadata": {},
   "outputs": [
    {
     "name": "stdout",
     "output_type": "stream",
     "text": [
      "Mean precip in future is 1.65 times that in the historical simulation\n",
      "Extreme precip in future (99.99th %-tile) is 2.16 times that in the historical simulation\n"
     ]
    }
   ],
   "source": [
    "# What is the change in the mean and in the extreme (99.9th percentile)?\n",
    "pc_change_mean=np.mean(future.pr.values)/np.mean(hist.pr.values) # Change in mean\n",
    "pc_change_xx=np.percentile(future.pr.values,99.9)/np.percentile(hist.pr.values,99.9) # Change in extreme\n",
    "print(\"Mean precip in future is %.2f times that in the historical simulation\"%pc_change_mean)\n",
    "print(\"Extreme precip in future (99.99th %%-tile) is %.2f times that in the historical simulation\"%pc_change_xx)"
   ]
  },
  {
   "cell_type": "code",
   "execution_count": null,
   "id": "58a8f954",
   "metadata": {},
   "outputs": [],
   "source": []
  },
  {
   "cell_type": "code",
   "execution_count": null,
   "id": "1c4fc7b5",
   "metadata": {},
   "outputs": [],
   "source": []
  },
  {
   "cell_type": "code",
   "execution_count": null,
   "id": "b3e5215e",
   "metadata": {},
   "outputs": [],
   "source": []
  },
  {
   "cell_type": "code",
   "execution_count": null,
   "id": "f7dd30cd",
   "metadata": {},
   "outputs": [],
   "source": [
    "\n"
   ]
  }
 ],
 "metadata": {
  "kernelspec": {
   "display_name": "Python 3",
   "language": "python",
   "name": "python3"
  },
  "language_info": {
   "codemirror_mode": {
    "name": "ipython",
    "version": 3
   },
   "file_extension": ".py",
   "mimetype": "text/x-python",
   "name": "python",
   "nbconvert_exporter": "python",
   "pygments_lexer": "ipython3",
   "version": "3.8.8"
  }
 },
 "nbformat": 4,
 "nbformat_minor": 5
}
