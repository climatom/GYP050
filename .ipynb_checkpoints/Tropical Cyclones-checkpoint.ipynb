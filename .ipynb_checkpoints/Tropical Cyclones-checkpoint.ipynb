{
 "cells": [
  {
   "cell_type": "markdown",
   "id": "beff22ef",
   "metadata": {},
   "source": [
    "# <center> Workshop 4: Tropical Cyclones</center>\n",
    "\n",
    "Will include: \n",
    "- Toy models and sensitivity - changing sst; warm top vs cold top vs neutral; rh scenarios (\"dry high\") and (\"wet high\")\n",
    "\n",
    "Method: use warming fractions to perturb t by more or less relative to sst change. \n",
    "\n"
   ]
  },
  {
   "cell_type": "code",
   "execution_count": 44,
   "id": "58bb3bd0",
   "metadata": {},
   "outputs": [],
   "source": [
    "import xarray as xa, numpy as np\n",
    "from pyPI import pi\n",
    "import matplotlib.pyplot as plt\n",
    "from src import utils\n",
    "%matplotlib inline"
   ]
  },
  {
   "cell_type": "code",
   "execution_count": 45,
   "id": "c46d80d9",
   "metadata": {},
   "outputs": [],
   "source": [
    "fin=\"/home/lunet/gytm3/Teaching/GYP050/Public/Data/era5_tc_ilev.nc\"\n",
    "sample=\"/home/lunet/gytm3/Teaching/GYP050/Public/Data/sample_data.nc\""
   ]
  },
  {
   "cell_type": "code",
   "execution_count": 46,
   "id": "ac3f9e29",
   "metadata": {},
   "outputs": [],
   "source": [
    "data=xa.open_dataset(fin)\n",
    "test=xa.open_dataset(sample)\n",
    "data[\"msl\"]=data[\"msl\"]/100. #hPa\n",
    "\n",
    "dsst=2\n",
    "dt=3\n",
    "drh=0.25\n",
    "nt,nlev,nr,nc=data[\"t\"].shape\n",
    "t=data[\"t\"].values\n",
    "q=data[\"q\"].values\n",
    "p=data[\"level\"].values\n",
    "sst=data[\"sst\"].values\n",
    "sst_out,t_out,rh_out,q_out=utils.gen_future_conditions(dsst,dt,drh,sst,t,q,p,nt,nlev,nr,nc)\n",
    "\n",
    "data[\"t\"].values=t_out-273.15\n",
    "data[\"sst\"].values=sst_out-273.15\n",
    "data[\"q\"].values=q_out"
   ]
  },
  {
   "cell_type": "code",
   "execution_count": 47,
   "id": "7389808d",
   "metadata": {},
   "outputs": [],
   "source": [
    "# (VMAX,PMIN,IFL,TO,LNB)=pi(SST,MSL,P,T,R)\n",
    "result = xa.apply_ufunc(\n",
    "        pi,\n",
    "        data['sst'], data['msl'], data['level'], data['t'], data['q'],\n",
    "        kwargs=dict(CKCD=0.9, ascent_flag=0, diss_flag=1, ptop=50, miss_handle=1),\n",
    "        input_core_dims=[\n",
    "            [], [], ['level', ], ['level', ], ['level', ],\n",
    "        ],\n",
    "        output_core_dims=[\n",
    "            [], [], [], [], []\n",
    "        ],\n",
    "        vectorize=True\n",
    "    )\n",
    "\n",
    "#(VMAX,PMIN,IFL,TO,LNB)=pi(smean[\"sst\"].values,smean[\"msl\"].values/100.,pmean[\"level\"].values,\n",
    " #                         pmean[\"t\"].values[:],pmean[\"q\"].values)"
   ]
  },
  {
   "cell_type": "code",
   "execution_count": 48,
   "id": "c3929279",
   "metadata": {},
   "outputs": [
    {
     "data": {
      "text/plain": [
       "(array([0.00041366, 0.00212739, 0.00400658, 0.008545  , 0.01006963,\n",
       "        0.01272886, 0.01525809, 0.02076565, 0.0240631 , 0.03071709,\n",
       "        0.03852933, 0.04283137, 0.04752344, 0.05571388, 0.0608787 ,\n",
       "        0.07009737, 0.08385447, 0.09251766, 0.09918347, 0.08463451,\n",
       "        0.08660825, 0.07879602, 0.05983864, 0.05005267, 0.0329863 ,\n",
       "        0.01561265, 0.01207883, 0.00613396, 0.00380566, 0.00089823]),\n",
       " array([ 92.9232837 ,  93.79188934,  94.66049499,  95.52910063,\n",
       "         96.39770628,  97.26631193,  98.13491757,  99.00352322,\n",
       "         99.87212886, 100.74073451, 101.60934015, 102.4779458 ,\n",
       "        103.34655144, 104.21515709, 105.08376274, 105.95236838,\n",
       "        106.82097403, 107.68957967, 108.55818532, 109.42679096,\n",
       "        110.29539661, 111.16400226, 112.0326079 , 112.90121355,\n",
       "        113.76981919, 114.63842484, 115.50703048, 116.37563613,\n",
       "        117.24424178, 118.11284742, 118.98145307]),\n",
       " <BarContainer object of 30 artists>)"
      ]
     },
     "execution_count": 48,
     "metadata": {},
     "output_type": "execute_result"
    },
    {
     "data": {
      "image/png": "[encoded data removed]",
      "text/plain": [
       "<Figure size 432x288 with 1 Axes>"
      ]
     },
     "metadata": {
      "needs_background": "light"
     },
     "output_type": "display_data"
    }
   ],
   "source": [
    "vmax, pmin, ifl, t0, otl = result\n",
    "vmax=vmax.values.flatten()\n",
    "fig,ax=plt.subplots(1,1)\n",
    "ax.hist(vmax[~np.isnan(vmax)],density=True,bins=30)"
   ]
  },
  {
   "cell_type": "code",
   "execution_count": 49,
   "id": "5fde1122",
   "metadata": {},
   "outputs": [
    {
     "data": {
      "text/plain": [
       "118.01870727476026"
      ]
     },
     "execution_count": 49,
     "metadata": {},
     "output_type": "execute_result"
    }
   ],
   "source": [
    "np.percentile(vmax,99.9)"
   ]
  },
  {
   "cell_type": "code",
   "execution_count": null,
   "id": "1c04188d",
   "metadata": {},
   "outputs": [],
   "source": []
  },
  {
   "cell_type": "code",
   "execution_count": null,
   "id": "9d17600a",
   "metadata": {},
   "outputs": [],
   "source": []
  },
  {
   "cell_type": "code",
   "execution_count": null,
   "id": "fa8da1dc",
   "metadata": {},
   "outputs": [],
   "source": []
  }
 ],
 "metadata": {
  "kernelspec": {
   "display_name": "Python 3",
   "language": "python",
   "name": "python3"
  },
  "language_info": {
   "codemirror_mode": {
    "name": "ipython",
    "version": 3
   },
   "file_extension": ".py",
   "mimetype": "text/x-python",
   "name": "python",
   "nbconvert_exporter": "python",
   "pygments_lexer": "ipython3",
   "version": "3.8.8"
  }
 },
 "nbformat": 4,
 "nbformat_minor": 5
}
