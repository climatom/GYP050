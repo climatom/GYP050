{
 "cells": [
  {
   "cell_type": "markdown",
   "id": "beff22ef",
   "metadata": {},
   "source": [
    "# <center> Workshop 4: Tropical Cyclones</center>\n",
    "\n",
    "Will include: \n",
    "- Toy models and sensitivity - changing sst; warm top vs cold top vs neutral; rh scenarios (\"dry high\") and (\"wet high\")\n",
    "\n",
    "Method: use warming fractions to perturb t by more or less relative to sst change. \n",
    "\n"
   ]
  },
  {
   "cell_type": "code",
   "execution_count": 44,
   "id": "58bb3bd0",
   "metadata": {},
   "outputs": [],
   "source": [
    "import xarray as xa, numpy as np\n",
    "from pyPI import pi\n",
    "import matplotlib.pyplot as plt\n",
    "from src import utils\n",
    "%matplotlib inline"
   ]
  },
  {
   "cell_type": "code",
   "execution_count": 45,
   "id": "c46d80d9",
   "metadata": {},
   "outputs": [],
   "source": [
    "fin=\"/home/lunet/gytm3/Teaching/GYP050/Public/Data/era5_tc_ilev.nc\"\n",
    "sample=\"/home/lunet/gytm3/Teaching/GYP050/Public/Data/sample_data.n"
   ]
  },
  {
   "cell_type": "code",
   "execution_count": 46,
   "id": "ac3f9e29",
   "metadata": {},
   "outputs": [],
   "source": [
    "data=xa.open_dataset(fin)\n",
    "test=xa.open_dataset(sample)\n",
    "data[\"msl\"]=data[\"msl\"]/100. #hPa\n",
    "\n",
    "dsst=2\n",
    "dt=3\n",
    "drh=0.25\n",
    "nt,nlev,nr,nc=data[\"t\"].shape\n",
    "t=data[\"t\"].values\n",
    "q=data[\"q\"].values\n",
    "p=data[\"level\"].values\n",
    "sst=data[\"sst\"].values\n",
    "sst_out,t_out,rh_out,q_out=utils.gen_future_conditions(dsst,dt,drh,sst,t,q,p,nt,nlev,nr,nc)\n",
    "\n",
    "data[\"t\"].values=t_out-273.15\n",
    "data[\"sst\"].values=sst_out-273.15\n",
    "data[\"q\"].values=q_out"
   ]
  },
  {
   "cell_type": "code",
   "execution_count": 47,
   "id": "7389808d",
   "metadata": {},
   "outputs": [],
   "source": [
    "# (VMAX,PMIN,IFL,TO,LNB)=pi(SST,MSL,P,T,R)\n",
    "result = xa.apply_ufunc(\n",
    "        pi,\n",
    "        data['sst'], data['msl'], data['level'], data['t'], data['q'],\n",
    "        kwargs=dict(CKCD=0.9, ascent_flag=0, diss_flag=1, ptop=50, miss_handle=1),\n",
    "        input_core_dims=[\n",
    "            [], [], ['level', ], ['level', ], ['level', ],\n",
    "        ],\n",
    "        output_core_dims=[\n",
    "            [], [], [], [], []\n",
    "        ],\n",
    "        vectorize=True\n",
    "    )\n",
    "\n",
    "#(VMAX,PMIN,IFL,TO,LNB)=pi(smean[\"sst\"].values,smean[\"msl\"].values/100.,pmean[\"level\"].values,\n",
    " #                         pmean[\"t\"].values[:],pmean[\"q\"].values)"
   ]
  },
  {
   "cell_type": "code",
   "execution_count": 1,
   "id": "c3929279",
   "metadata": {},
   "outputs": [
    {
     "ename": "NameError",
     "evalue": "name 'result' is not defined",
     "output_type": "error",
     "traceback": [
      "\u001b[0;31m---------------------------------------------------------------------------\u001b[0m",
      "\u001b[0;31mNameError\u001b[0m                                 Traceback (most recent call last)",
      "\u001b[0;32m<ipython-input-1-ca6ad1ed360c>\u001b[0m in \u001b[0;36m<module>\u001b[0;34m\u001b[0m\n\u001b[0;32m----> 1\u001b[0;31m \u001b[0mvmax\u001b[0m\u001b[0;34m,\u001b[0m \u001b[0mpmin\u001b[0m\u001b[0;34m,\u001b[0m \u001b[0mifl\u001b[0m\u001b[0;34m,\u001b[0m \u001b[0mt0\u001b[0m\u001b[0;34m,\u001b[0m \u001b[0motl\u001b[0m \u001b[0;34m=\u001b[0m \u001b[0mresult\u001b[0m\u001b[0;34m\u001b[0m\u001b[0;34m\u001b[0m\u001b[0m\n\u001b[0m\u001b[1;32m      2\u001b[0m \u001b[0mvmax\u001b[0m\u001b[0;34m=\u001b[0m\u001b[0mvmax\u001b[0m\u001b[0;34m.\u001b[0m\u001b[0mvalues\u001b[0m\u001b[0;34m.\u001b[0m\u001b[0mflatten\u001b[0m\u001b[0;34m(\u001b[0m\u001b[0;34m)\u001b[0m\u001b[0;34m\u001b[0m\u001b[0;34m\u001b[0m\u001b[0m\n\u001b[1;32m      3\u001b[0m \u001b[0mfig\u001b[0m\u001b[0;34m,\u001b[0m\u001b[0max\u001b[0m\u001b[0;34m=\u001b[0m\u001b[0mplt\u001b[0m\u001b[0;34m.\u001b[0m\u001b[0msubplots\u001b[0m\u001b[0;34m(\u001b[0m\u001b[0;36m1\u001b[0m\u001b[0;34m,\u001b[0m\u001b[0;36m1\u001b[0m\u001b[0;34m)\u001b[0m\u001b[0;34m\u001b[0m\u001b[0;34m\u001b[0m\u001b[0m\n\u001b[1;32m      4\u001b[0m \u001b[0mh\u001b[0m\u001b[0;34m=\u001b[0m\u001b[0max\u001b[0m\u001b[0;34m.\u001b[0m\u001b[0mhist\u001b[0m\u001b[0;34m(\u001b[0m\u001b[0mvmax\u001b[0m\u001b[0;34m[\u001b[0m\u001b[0;34m~\u001b[0m\u001b[0mnp\u001b[0m\u001b[0;34m.\u001b[0m\u001b[0misnan\u001b[0m\u001b[0;34m(\u001b[0m\u001b[0mvmax\u001b[0m\u001b[0;34m)\u001b[0m\u001b[0;34m]\u001b[0m\u001b[0;34m,\u001b[0m\u001b[0mdensity\u001b[0m\u001b[0;34m=\u001b[0m\u001b[0;32mTrue\u001b[0m\u001b[0;34m,\u001b[0m\u001b[0mbins\u001b[0m\u001b[0;34m=\u001b[0m\u001b[0;36m30\u001b[0m\u001b[0;34m)\u001b[0m\u001b[0;34m\u001b[0m\u001b[0;34m\u001b[0m\u001b[0m\n",
      "\u001b[0;31mNameError\u001b[0m: name 'result' is not defined"
     ]
    }
   ],
   "source": [
    "vmax, pmin, ifl, t0, otl = result\n",
    "vmax=vmax.values.flatten()\n",
    "fig,ax=plt.subplots(1,1)\n",
    "h=ax.hist(vmax[~np.isnan(vmax)],density=True,bins=30)"
   ]
  },
  {
   "cell_type": "code",
   "execution_count": 49,
   "id": "5fde1122",
   "metadata": {},
   "outputs": [
    {
     "data": {
      "text/plain": [
       "118.01870727476026"
      ]
     },
     "execution_count": 49,
     "metadata": {},
     "output_type": "execute_result"
    }
   ],
   "source": [
    "np.percentile(vmax,99.9)"
   ]
  },
  {
   "cell_type": "code",
   "execution_count": null,
   "id": "1c04188d",
   "metadata": {},
   "outputs": [],
   "source": []
  },
  {
   "cell_type": "code",
   "execution_count": null,
   "id": "9d17600a",
   "metadata": {},
   "outputs": [],
   "source": []
  },
  {
   "cell_type": "code",
   "execution_count": null,
   "id": "fa8da1dc",
   "metadata": {},
   "outputs": [],
   "source": []
  }
 ],
 "metadata": {
  "kernelspec": {
   "display_name": "Python 3",
   "language": "python",
   "name": "python3"
  },
  "language_info": {
   "codemirror_mode": {
    "name": "ipython",
    "version": 3
   },
   "file_extension": ".py",
   "mimetype": "text/x-python",
   "name": "python",
   "nbconvert_exporter": "python",
   "pygments_lexer": "ipython3",
   "version": "3.8.8"
  }
 },
 "nbformat": 4,
 "nbformat_minor": 5
}
